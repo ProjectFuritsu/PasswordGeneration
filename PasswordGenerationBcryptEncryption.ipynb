{
  "nbformat": 4,
  "nbformat_minor": 0,
  "metadata": {
    "colab": {
      "provenance": [],
      "authorship_tag": "ABX9TyO2M3PcMZqXJS/qnPXxXn5E",
      "include_colab_link": true
    },
    "kernelspec": {
      "name": "python3",
      "display_name": "Python 3"
    },
    "language_info": {
      "name": "python"
    }
  },
  "cells": [
    {
      "cell_type": "markdown",
      "metadata": {
        "id": "view-in-github",
        "colab_type": "text"
      },
      "source": [
        "<a href=\"https://colab.research.google.com/github/ProjectFuritsu/PasswordGeneration/blob/main/PasswordGenerationBcryptEncryption.ipynb\" target=\"_parent\"><img src=\"https://colab.research.google.com/assets/colab-badge.svg\" alt=\"Open In Colab\"/></a>"
      ]
    },
    {
      "cell_type": "markdown",
      "source": [
        "# 🔐 Password Generation & Hashing Toolkit\n",
        "\n",
        "Welcome to the **Password Generation & Hashing Toolkit** — a beginner-friendly utility to:\n",
        "- 🔁 Generate secure random passwords\n",
        "- ✅ Validate them for allowed characters\n",
        "- 🔐 Encrypt them using `bcrypt` for secure storage\n",
        "\n",
        "---\n",
        "\n",
        "## 🧰 Features\n",
        "- 💡 **Random Password Generator** (includes upper, lower, digits, symbols)\n",
        "- 🧪 **Validation** using regular expressions\n",
        "- 🛡️ **Secure Hashing** with `bcrypt`\n",
        "- 💻 **Interactive CLI-style menu**\n",
        "\n",
        "---\n",
        "\n",
        "## 👨‍💻 Author\n",
        "**Name:** Project Furitsu  \n",
        "**Date:** May 2025  \n",
        "**Platform:** Google Colab\n",
        "\n",
        "---\n",
        "\n",
        "\n",
        "## 📂 Repository\n",
        "**GitHub:** https://github.com/ProjectFuritsu/PasswordGeneration.git\n",
        "\n",
        "\n",
        "# ✅ Ready? Run the cells below and start securing your credentials!\n"
      ],
      "metadata": {
        "id": "8RRXsYVEU1v4"
      }
    },
    {
      "cell_type": "code",
      "source": [
        "# @title Install bcrypt Library\n",
        "!pip install bcrypt"
      ],
      "metadata": {
        "cellView": "form",
        "id": "OibDi6XoL-aF"
      },
      "execution_count": null,
      "outputs": []
    },
    {
      "cell_type": "code",
      "source": [
        "# @title Import Dependencies\n",
        "import re\n",
        "import string\n",
        "import random\n",
        "import bcrypt"
      ],
      "metadata": {
        "cellView": "form",
        "id": "9dQ-qfjyLUYT"
      },
      "execution_count": 12,
      "outputs": []
    },
    {
      "cell_type": "code",
      "source": [
        "# @title Run to Generate Password\n",
        "def generate(length):\n",
        "    if length < 4:\n",
        "        print(\"\\n[!] Password length must be at least 4 for a secure mix of character types.\\n\")\n",
        "        return \"\"\n",
        "\n",
        "    # Ensure password includes at least one from each category\n",
        "    lower = random.choice(string.ascii_lowercase)\n",
        "    upper = random.choice(string.ascii_uppercase)\n",
        "    digit = random.choice(string.digits)\n",
        "    special = random.choice(string.punctuation)\n",
        "\n",
        "    # Remaining characters\n",
        "    remaining_length = length - 4\n",
        "    all_chars = string.ascii_letters + string.digits + string.punctuation\n",
        "    remaining = [random.choice(all_chars) for _ in range(remaining_length)]\n",
        "\n",
        "    # Combine and shuffle\n",
        "    password_list = [lower, upper, digit, special] + remaining\n",
        "    random.shuffle(password_list)\n",
        "\n",
        "    password = ''.join(password_list)\n",
        "    print(\"\\n✅ Generated Password:\\n\" + \"=\"*30)\n",
        "    print(password)\n",
        "    print(\"=\"*30 + \"\\n\")\n",
        "    return password\n",
        "\n",
        "def passwordValidator(password):\n",
        "    if not password:\n",
        "        print(\"\\n[!] No password to validate.\\n\")\n",
        "        return False\n",
        "\n",
        "    allowedCharsPattern = r\"^[a-zA-Z0-9!@#\\$%^&*()\\-_+=\\[\\]{};:'\\\",.<>/?]+$\"\n",
        "    print(\"\\n🎖️ Validation Results:\")\n",
        "    print(\"=\"*30)\n",
        "    if re.fullmatch(allowedCharsPattern, password):\n",
        "        print(\"✅ The password is valid.\")\n",
        "        print(\"=\"*30 + \"\\n\")\n",
        "        return True\n",
        "    else:\n",
        "        print(\"❌ The password contains invalid characters.\")\n",
        "        print(\"=\"*30 + \"\\n\")\n",
        "        return False\n",
        "\n",
        "def hashPasswordUsingBcrypt(password):\n",
        "    if not password:\n",
        "        print(\"\\n[!] No password to hash.\\n\")\n",
        "        return None\n",
        "\n",
        "    bytes_pw = password.encode('utf-8')\n",
        "    salt = bcrypt.gensalt()\n",
        "    encrypted = bcrypt.hashpw(bytes_pw, salt)\n",
        "\n",
        "    print(\"\\n🔐 Encrypted Password (bcrypt):\")\n",
        "    print(\"=\"*30)\n",
        "    print(encrypted.decode())\n",
        "    print(\"=\"*30 + \"\\n\")\n",
        "    return encrypted\n",
        "\n",
        "def main():\n",
        "    while True:\n",
        "        print(\"\\n\" + \"=\"*40)\n",
        "        print(\"🔐        PASSWORD TOOL MENU\")\n",
        "        print(\"=\"*40)\n",
        "        print(\"1. Generate, Validate, and Hash Password\")\n",
        "        print(\"2. Exit\")\n",
        "        print(\"=\"*40)\n",
        "\n",
        "        choice = input(\"\\nEnter your choice (1-2): \").strip()\n",
        "\n",
        "        if choice == '1':\n",
        "            try:\n",
        "                length = int(input(\"\\nEnter desired password length: \"))\n",
        "                print()\n",
        "                password = generate(length)\n",
        "\n",
        "                if passwordValidator(password):\n",
        "                    hashPasswordUsingBcrypt(password)\n",
        "                else:\n",
        "                    print(\"[!] Skipping hashing due to invalid password.\")\n",
        "                    print(\"🔁 Returning to menu...\\n\")\n",
        "            except ValueError:\n",
        "                print(\"\\n[!] Please enter a valid number.\")\n",
        "                print(\"🔁 Returning to menu...\\n\")\n",
        "\n",
        "        elif choice == '2':\n",
        "            print(\"\\n👋 Exiting... Goodbye!\\n\")\n",
        "            break\n",
        "        else:\n",
        "            print(\"\\n[!] Invalid choice. Please enter 1 or 2.\\n\")\n",
        "\n",
        "if __name__ == \"__main__\":\n",
        "    main()\n"
      ],
      "metadata": {
        "cellView": "form",
        "id": "ae5-xAOfLeUN"
      },
      "execution_count": null,
      "outputs": []
    }
  ]
}